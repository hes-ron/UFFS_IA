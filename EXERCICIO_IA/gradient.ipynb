{
 "cells": [
  {
   "cell_type": "code",
   "execution_count": 1,
   "id": "solved-cancellation",
   "metadata": {},
   "outputs": [],
   "source": [
    "#Importing the numpy library\n",
    "import numpy as np"
   ]
  },
  {
   "cell_type": "code",
   "execution_count": 2,
   "id": "retired-sister",
   "metadata": {},
   "outputs": [],
   "source": [
    "#Function sigmoide\n",
    "def sigmoid(x):\n",
    "    return 1/(1+np.exp(-x))"
   ]
  },
  {
   "cell_type": "code",
   "execution_count": 3,
   "id": "verbal-stick",
   "metadata": {},
   "outputs": [],
   "source": [
    "#Derivative of the sigmoid function\n",
    "def sigmoid_prime(x):\n",
    "    return sigmoid(x) * (1 - sigmoid(x))"
   ]
  },
  {
   "cell_type": "code",
   "execution_count": 4,
   "id": "future-harvest",
   "metadata": {},
   "outputs": [],
   "source": [
    "#Defaul values\n",
    "learnrate = 0.5\n",
    "x = np.array([1, 2, 3, 4])\n",
    "y = np.array(0.5)\n",
    "b = 0.5"
   ]
  },
  {
   "cell_type": "code",
   "execution_count": 5,
   "id": "smoking-privacy",
   "metadata": {},
   "outputs": [],
   "source": [
    "#  Initial weights\n",
    "## Calculate one gradient descent step for each weight\n",
    "w = np.array([0.5, -0.5, 0.3, 0.1])\n",
    "\n",
    "# TODO: Calculate the node's linear combination of inputs and weights\n",
    "h = np.dot(x, w)\n",
    "\n",
    "# TODO: Calculate output of neural network\n",
    "nn_output = sigmoid(h)\n",
    "\n",
    "# TODO: Calculate error of neural network    \n",
    "error = y - nn_output\n",
    "\n",
    "# TODO: Calculate the error term\n",
    "error_term = error * sigmoid_prime(h)\n",
    "\n",
    "# TODO: Calculate change in weights\n",
    "del_w = learnrate * error_term * x\n",
    "\n",
    "def second(w):\n",
    "    #Run many times as needed\n",
    "    h = np.dot(x, w) + b       \n",
    "    nn_output = sigmoid(h)\n",
    "    error = y - nn_output\n",
    "    error_term = error * sigmoid_prime(h)\n",
    "    del_w = learnrate * error_term * x\n",
    "    \n",
    "    #Return all values\n",
    "    return h, nn_output, error, error_term, del_w  "
   ]
  },
  {
   "cell_type": "code",
   "execution_count": 6,
   "id": "massive-shareware",
   "metadata": {},
   "outputs": [
    {
     "name": "stdout",
     "output_type": "stream",
     "text": [
      "w 1 \n",
      "\n",
      "Output da rede: \n",
      "0.6899744811276125\n",
      "\n",
      "O erro do output:\n",
      "-0.1899744811276125\n",
      "\n",
      "O termo do erro:\n",
      "-0.04063738360460799\n",
      "\n",
      "Atualizar o passo:\n",
      "[-0.02031869 -0.04063738 -0.06095608 -0.08127477]\n",
      "------------------------------------------\n",
      "\n",
      "w 2 \n",
      "\n",
      "Output da rede: \n",
      "0.666064632071931\n",
      "\n",
      "O erro do output:\n",
      "-0.166064632071931\n",
      "\n",
      "O termo do erro:\n",
      "-0.03693651693329262\n",
      "\n",
      "Atualizar o passo:\n",
      "[-0.01846826 -0.03693652 -0.05540478 -0.07387303]\n",
      "------------------------------------------\n",
      "\n"
     ]
    }
   ],
   "source": [
    "#Run many times as needed\n",
    "for i in range(2):\n",
    "    print('w', i+1, '\\n')\n",
    "    \n",
    "    print('Output da rede: ')\n",
    "    print(nn_output)\n",
    "\n",
    "    print('\\nO erro do output:')\n",
    "    print(error)\n",
    "\n",
    "    print('\\nO termo do erro:')\n",
    "    print(error_term)\n",
    "\n",
    "    print('\\nAtualizar o passo:')\n",
    "    print(del_w)\n",
    "\n",
    "    w = w + del_w #Updates weights\n",
    "    h, nn_output, error, error_term, del_w = second(w)\n",
    "    \n",
    "    print('------------------------------------------\\n')"
   ]
  },
  {
   "cell_type": "code",
   "execution_count": null,
   "id": "rational-mauritius",
   "metadata": {},
   "outputs": [],
   "source": []
  },
  {
   "cell_type": "code",
   "execution_count": null,
   "id": "prepared-fisher",
   "metadata": {},
   "outputs": [],
   "source": []
  },
  {
   "cell_type": "code",
   "execution_count": null,
   "id": "touched-pepper",
   "metadata": {},
   "outputs": [],
   "source": []
  },
  {
   "cell_type": "code",
   "execution_count": null,
   "id": "hispanic-cleanup",
   "metadata": {},
   "outputs": [],
   "source": []
  },
  {
   "cell_type": "code",
   "execution_count": null,
   "id": "cutting-sister",
   "metadata": {},
   "outputs": [],
   "source": []
  },
  {
   "cell_type": "code",
   "execution_count": null,
   "id": "advisory-recognition",
   "metadata": {},
   "outputs": [],
   "source": []
  },
  {
   "cell_type": "code",
   "execution_count": null,
   "id": "local-facial",
   "metadata": {},
   "outputs": [],
   "source": []
  },
  {
   "cell_type": "code",
   "execution_count": null,
   "id": "answering-thomson",
   "metadata": {},
   "outputs": [],
   "source": []
  },
  {
   "cell_type": "code",
   "execution_count": null,
   "id": "about-morocco",
   "metadata": {},
   "outputs": [],
   "source": []
  }
 ],
 "metadata": {
  "kernelspec": {
   "display_name": "Python 3",
   "language": "python",
   "name": "python3"
  },
  "language_info": {
   "codemirror_mode": {
    "name": "ipython",
    "version": 3
   },
   "file_extension": ".py",
   "mimetype": "text/x-python",
   "name": "python",
   "nbconvert_exporter": "python",
   "pygments_lexer": "ipython3",
   "version": "3.6.13"
  }
 },
 "nbformat": 4,
 "nbformat_minor": 5
}
